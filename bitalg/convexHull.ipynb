{
 "cells": [
  {
   "cell_type": "code",
   "execution_count": null,
   "metadata": {},
   "outputs": [],
   "source": [
    "import numpy as np\n",
    "import matplotlib.pyplot as plt\n",
    "from bitalg.visualizer.main import Visualizer"
   ]
  },
  {
   "cell_type": "code",
   "execution_count": null,
   "metadata": {},
   "outputs": [],
   "source": [
    "def mat_det(a, b, c):\n",
    "    \"\"\"\n",
    "    Obliczanie wyznacznika macierzy 3x3 bez użycia funkcji bibliotecznych\n",
    "    :param a: krotka współrzędnych (x, y) pierwszego punktu tworzącego naszą prostą\n",
    "    :param b: krotka współrzędnych (x, y) drugiego punktu tworzącego naszą prostą\n",
    "    :param c: krotka współrzędnych (x, y) punktu, którego położenie względem prostej chcemy znaleźć\n",
    "    :return: wartość wyznacznika macierzy\n",
    "    \"\"\"\n",
    "    ax,ay = a\n",
    "    bx,by = b\n",
    "    cx,cy = c\n",
    "    return (bx-ax)*(cy-by)-(by-ay)*(cx-bx)"
   ]
  },
  {
   "cell_type": "code",
   "execution_count": null,
   "metadata": {},
   "outputs": [],
   "source": [
    "def generate_uniform_points(left, right, n = 10 ** 5):\n",
    "    \"\"\"\n",
    "    Funkcja generuje równomiernie n punktów na kwadratowym obszarze od left do right (jednakowo na osi y) o współrzędnych rzeczywistych\n",
    "    :param left:  lewy kraniec przedziału\n",
    "    :param right: prawy kraniec przedziału\n",
    "    :param n: ilość generowanych punktów\n",
    "    :return: tablica punktów w postaci krotek współrzędnych np. [(x1, y1), (x2, y2), ... (xn, yn)]\n",
    "    \"\"\"\n",
    "    points = []\n",
    "    for i in range(n):\n",
    "        points.append(np.random.uniform(left, right, 2))\n",
    "    return points"
   ]
  },
  {
   "cell_type": "code",
   "execution_count": null,
   "metadata": {},
   "outputs": [],
   "source": [
    "def generate_collinear_points(a, b, n=100):\n",
    "    \"\"\"\n",
    "    Funkcja generuje równomiernie n współliniowych punktów leżących na odcinku ab pomiędzy punktami a i b\n",
    "    :param a: krotka współrzędnych oznaczająca początek odcinka\n",
    "    :param b: krotka współrzędnych oznaczająca koniec odcinka\n",
    "    :param n: ilość generowanych punktów\n",
    "    :return: tablica punktów w postaci krotek współrzędnych\n",
    "    \"\"\"\n",
    "    x1,y1 = a\n",
    "    x2, y2 = b\n",
    "    v = [x2-x1, y2-y1]\n",
    "    x = lambda t: x1 + t*v[0]\n",
    "    y = lambda t: y1 + t*v[1]\n",
    "    P = lambda t: (x(t), y(t))\n",
    "    points = []\n",
    "    for i in range(n):\n",
    "        t = np.random.uniform(0,1)\n",
    "        points.append(P(t))\n",
    "    return points"
   ]
  },
  {
   "cell_type": "code",
   "execution_count": null,
   "metadata": {},
   "outputs": [],
   "source": [
    "def drawPoints(points,lines=[]):\n",
    "    vis = Visualizer()\n",
    "    vis.add_grid()\n",
    "    vis.add_point(points)\n",
    "    if len(lines) > 0:\n",
    "        vis.add_polygon(lines,alpha=0.7)\n",
    "    vis.show()"
   ]
  },
  {
   "cell_type": "code",
   "execution_count": null,
   "metadata": {},
   "outputs": [],
   "source": [
    "points = generate_uniform_points(-5, 5, n=10)\n",
    "drawPoints(points)"
   ]
  },
  {
   "cell_type": "markdown",
   "metadata": {},
   "source": [
    "## Algorytm Jarvisa\n",
    "wykorzystywany do znajdywania otoczki wypułkłej w czasie nk\n",
    "\n",
    "Algorytm Jarvisa - kroki\n",
    "1. Wybierz punkt którego y jest najmniejszy - p0\n",
    "2. Znajdź punkt p który tworzy najmniejszy kąt z miedzy prostą p-p0 a osią OX -  zrobimy to za pomocą funkcji \"orient\"\n",
    "3. Dodaj punkt"
   ]
  },
  {
   "cell_type": "code",
   "execution_count": null,
   "metadata": {},
   "outputs": [],
   "source": [
    "def orient(a,b,c,eps=1e-8):\n",
    "    \"\"\"\n",
    "    Celem funkcji jest stworzenie porządku dla punktów. Sprawdza czy mniejszy kąt względem osi OX tworzy prosta ab czy ac\n",
    "    \"\"\"\n",
    "    det = mat_det(a,b,c)\n",
    "    if abs(det) <= eps:\n",
    "        return 0\n",
    "    if det < eps:\n",
    "        return 1\n",
    "    return -1"
   ]
  },
  {
   "cell_type": "code",
   "execution_count": null,
   "metadata": {},
   "outputs": [],
   "source": [
    "def find_p0(points):\n",
    "    p0_idx = 0\n",
    "    p0 = points[0]\n",
    "    for i in range(len(points)):\n",
    "        if points[i][1] < p0[1]:\n",
    "            p0 = points[i]\n",
    "            p0_idx = i\n",
    "    return p0_idx"
   ]
  },
  {
   "cell_type": "code",
   "execution_count": null,
   "metadata": {},
   "outputs": [],
   "source": [
    "def calc_distance(a,b):\n",
    "    return np.sqrt((a[0]-b[0])**2+(a[1]-b[1])**2)"
   ]
  },
  {
   "cell_type": "code",
   "execution_count": null,
   "metadata": {},
   "outputs": [],
   "source": [
    "def find_next(points,a0_idx):\n",
    "    next_p = (a0_idx+1)%len(points)\n",
    "    next = points[next_p]\n",
    "    found_next_not_on_line = False \n",
    "    a0 = points[a0_idx]\n",
    "    sameline_idx = None\n",
    "    sameline_dist = 0\n",
    "    for i in range(len(points)):\n",
    "        res = orient(a0,next,points[i])\n",
    "        if res == 0:\n",
    "            if sameline_idx is None:\n",
    "                sameline_idx = i\n",
    "                sameline_dist = calc_distance(a0,points[i])\n",
    "            else:\n",
    "                curr_dist = calc_distance(a0,points[i])\n",
    "                if curr_dist > sameline_dist:\n",
    "                    sameline_idx = i\n",
    "                    sameline_dist = curr_dist\n",
    "                \n",
    "        elif res > 0:\n",
    "            found_next_not_on_line = True\n",
    "            next = points[i]\n",
    "            next_p = i\n",
    "    if not found_next_not_on_line:\n",
    "        next_p = sameline_idx\n",
    "    return next_p"
   ]
  },
  {
   "cell_type": "code",
   "execution_count": null,
   "metadata": {},
   "outputs": [],
   "source": [
    "def Jarvis(points):\n",
    "    # points = [tuple(p) for p in points]\n",
    "    p0_idx = find_p0(points)\n",
    "    a0_idx = p0_idx\n",
    "    sol = [points[a0_idx]]\n",
    "    while True:\n",
    "        next_idx = find_next(points,a0_idx)\n",
    "        a0_idx = next_idx\n",
    "        if next_idx == p0_idx:\n",
    "            break\n",
    "        sol.append(points[next_idx])\n",
    "\n",
    "    return sol\n"
   ]
  },
  {
   "cell_type": "markdown",
   "metadata": {},
   "source": [
    "### Testing..."
   ]
  },
  {
   "cell_type": "code",
   "execution_count": null,
   "metadata": {},
   "outputs": [],
   "source": [
    "convex_hull = Jarvis(points)\n",
    "drawPoints(points,convex_hull)"
   ]
  },
  {
   "cell_type": "code",
   "execution_count": null,
   "metadata": {},
   "outputs": [],
   "source": [
    "for p in range(5):\n",
    "    points = generate_uniform_points(-5,5,30)\n",
    "    drawPoints(points,Jarvis(points))"
   ]
  },
  {
   "cell_type": "markdown",
   "metadata": {},
   "source": [
    "4 punkty na lini"
   ]
  },
  {
   "cell_type": "code",
   "execution_count": null,
   "metadata": {},
   "outputs": [],
   "source": [
    "points_b = generate_collinear_points((-1,-1), (1,2),5)\n",
    "points_b.append((1,0))\n",
    "convex_hull = Jarvis(points_b)\n",
    "print(f\"{len(convex_hull)} punkty w otoczce\")\n",
    "print(convex_hull)\n",
    "drawPoints(points_b,convex_hull)\n"
   ]
  },
  {
   "cell_type": "markdown",
   "metadata": {},
   "source": [
    "### Algorytm Grahama"
   ]
  },
  {
   "cell_type": "code",
   "execution_count": null,
   "metadata": {},
   "outputs": [],
   "source": [
    "points = generate_uniform_points(-1,1,15)\n",
    "drawPoints(points)"
   ]
  },
  {
   "cell_type": "code",
   "execution_count": null,
   "metadata": {},
   "outputs": [],
   "source": [
    "def orient_ext(a,b,c,eps=1e-8):\n",
    "    \"\"\"\n",
    "    Celem funkcji jest stworzenie porządku dla punktów. Sprawdza czy mniejszy kąt względem osi OX tworzy prosta ab czy ac\n",
    "    \"\"\"\n",
    "    det = mat_det(a,b,c)\n",
    "    if abs(det) <= eps:\n",
    "        return calc_distance(a,b) - calc_distance(a,c)\n",
    "    if det < eps:\n",
    "        return 1\n",
    "    return -1"
   ]
  },
  {
   "cell_type": "code",
   "execution_count": null,
   "metadata": {},
   "outputs": [],
   "source": [
    "def sort_by_angle(points):\n",
    "    points_copy = [tuple(p) for p in points]\n",
    "    a0 = min(points_copy,key=lambda x:x[1])\n",
    "    sorted_points = [a0]\n",
    "    points_copy.remove(a0)\n",
    "    while len(points_copy) > 0:\n",
    "        lowest = points_copy[0]\n",
    "        for p in points_copy:\n",
    "            if orient(a0,lowest,p) > 0:\n",
    "                lowest = p\n",
    "        sorted_points.append(lowest)\n",
    "        points_copy.remove(lowest)\n",
    "    return sorted_points"
   ]
  },
  {
   "cell_type": "code",
   "execution_count": null,
   "metadata": {},
   "outputs": [],
   "source": [
    "from functools import cmp_to_key\n",
    "def sort_by_angleV2(points):\n",
    "    a0_idx = 0\n",
    "    a0 = points[0]\n",
    "    for i in range(1,len(points)):\n",
    "        if a0[1] > points[i][1]:\n",
    "            a0 = points[i]\n",
    "            a0_idx = i\n",
    "    # a0_idx = points.index(min(points,key=lambda x: x[1]))\n",
    "    # a0_idx = np.where(points == np.min(points,axis=1))[0][0]\n",
    "    points[0],points[a0_idx] = points[a0_idx],points[0] \n",
    "    # a0 = points[0]\n",
    "    cmp = lambda x,y: orient_ext(a0,x,y)\n",
    "    return [a0] + sorted(points[1:],key=cmp_to_key(cmp))"
   ]
  },
  {
   "cell_type": "code",
   "execution_count": null,
   "metadata": {},
   "outputs": [],
   "source": [
    "def filter_on_same_line(points):\n",
    "    i = 0\n",
    "    j = 2\n",
    "    result = [points[0]]\n",
    "    while j < len(points):\n",
    "        if orient(points[i],points[j-1],points[j]) != 0:\n",
    "            result += [points[j-1]]\n",
    "            i=j-1\n",
    "        j += 1\n",
    "\n",
    "    result += [points[j-1]]\n",
    "    return result\n",
    "\n",
    "# tested = [np.array([1,1]),np.array([2,2]),np.array([3,3]),np.array([2,5]),np.array([1,7]),np.array([0,9])]\n",
    "# print(filter_on_same_line(tested))"
   ]
  },
  {
   "cell_type": "code",
   "execution_count": null,
   "metadata": {},
   "outputs": [],
   "source": [
    "def graham(points):\n",
    "    # sorted_points = sort_by_angle(points)\n",
    "    sorted_points = sort_by_angleV2(points)\n",
    "    prepared_points = filter_on_same_line(sorted_points)\n",
    "    # prepared_points = sorted_points\n",
    "    s = [*prepared_points[:2]]\n",
    "    for i in range(2,len(prepared_points)):\n",
    "        p = prepared_points[i]\n",
    "        while len(s) > 1 and orient(s[-2],s[-1],p) >= 0:\n",
    "            s.pop()\n",
    "        s.append(p)\n",
    "    return s"
   ]
  },
  {
   "cell_type": "markdown",
   "metadata": {},
   "source": [
    "### TESTING..."
   ]
  },
  {
   "cell_type": "code",
   "execution_count": null,
   "metadata": {},
   "outputs": [],
   "source": [
    "for i in range(10):\n",
    "    points = generate_uniform_points(-1,1,30)\n",
    "    drawPoints(points,graham(points))"
   ]
  },
  {
   "cell_type": "code",
   "execution_count": null,
   "metadata": {},
   "outputs": [],
   "source": [
    "for i in range(5):\n",
    "    points_b = generate_collinear_points((1,2),(4,5),5)\n",
    "    points_b.append((1,1))\n",
    "    convex_hull = graham(points_b)\n",
    "    print(len(convex_hull))\n",
    "    drawPoints(points_b,convex_hull)"
   ]
  }
 ],
 "metadata": {
  "kernelspec": {
   "display_name": "bit-alg",
   "language": "python",
   "name": "python3"
  },
  "language_info": {
   "codemirror_mode": {
    "name": "ipython",
    "version": 3
   },
   "file_extension": ".py",
   "mimetype": "text/x-python",
   "name": "python",
   "nbconvert_exporter": "python",
   "pygments_lexer": "ipython3",
   "version": "3.9.18"
  }
 },
 "nbformat": 4,
 "nbformat_minor": 2
}
