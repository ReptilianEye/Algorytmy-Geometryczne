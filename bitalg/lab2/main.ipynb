{
 "cells": [
  {
   "cell_type": "markdown",
   "metadata": {},
   "source": [
    "# Otoczka wypukła"
   ]
  },
  {
   "cell_type": "code",
   "execution_count": 1,
   "metadata": {},
   "outputs": [],
   "source": [
    "import numpy as np\n",
    "import pandas as pd\n",
    "from bitalg.tests.test2 import Test\n",
    "from bitalg.visualizer.main import Visualizer"
   ]
  },
  {
   "cell_type": "markdown",
   "metadata": {},
   "source": [
    "### Przykładowe zastosowanie narzędzia do wizualizacji"
   ]
  },
  {
   "cell_type": "code",
   "execution_count": 2,
   "metadata": {},
   "outputs": [],
   "source": [
    "def draw_example_1():\n",
    "    vis = Visualizer()\n",
    "\n",
    "    # point = (x, y)\n",
    "    points = [\n",
    "        (-62.781083483620016, 9.295526540248986),\n",
    "        (-10.543100198806997, -26.080520917553812),\n",
    "        (-81.64932184252287, -74.42163273030921),\n",
    "        (-36.297317058417946, -72.91194239793609),\n",
    "        (37.795092197502356, 57.71110085986143),\n",
    "        (62.511149567563905, -29.172821102708937),\n",
    "        (21.82806671019955, 2.647377124715007),\n",
    "        (-46.24539555503924, 42.65521594922478),\n",
    "        (-77.92302295134137, -7.666110427206263),\n",
    "        (25.85862324263843, 62.49564419388622),\n",
    "        (-27.71649622636616, -67.33453457840331),\n",
    "        (94.83039177581244, -55.52473300629532),\n",
    "        (-26.29675918891381, -51.30150933048958),\n",
    "        (-70.11654929355294, 16.723865705806816),\n",
    "        (26.682887992598097, -65.55763984116587),\n",
    "        (57.03377667841906, -55.56635171240132),\n",
    "        (-16.053624841650247, -42.333295668531456),\n",
    "        (-56.810858686395505, -37.41219002465095),\n",
    "        (15.604076302407279, -24.85779870929437),\n",
    "        (-71.77261869976445, -12.306083264402673),\n",
    "    ]\n",
    "    # line_segment = ((x1, y1), (x2, y2))\n",
    "    line_segments = [\n",
    "        ((-81.64932184252287, -74.42163273030921), (-36.297317058417946, -72.91194239793609)),\n",
    "        ((-36.297317058417946, -72.91194239793609), (26.682887992598097, -65.55763984116587)),\n",
    "        ((26.682887992598097, -65.55763984116587), (94.83039177581244, -55.52473300629532)),\n",
    "        ((94.83039177581244, -55.52473300629532), (37.795092197502356, 57.71110085986143)),\n",
    "        ((37.795092197502356, 57.71110085986143), (25.85862324263843, 62.49564419388622)),\n",
    "        ((25.85862324263843, 62.49564419388622), (-46.24539555503924, 42.65521594922478)),\n",
    "        ((-46.24539555503924, 42.65521594922478), (-70.11654929355294, 16.723865705806816)),\n",
    "        ((-70.11654929355294, 16.723865705806816), (-77.92302295134137, -7.666110427206263)),\n",
    "        ((-77.92302295134137, -7.666110427206263), (-81.64932184252287, -74.42163273030921)),\n",
    "    ]\n",
    "    vis.add_point(points, color=\"green\")\n",
    "    vis.add_line_segment(line_segments, color=\"blue\")\n",
    "    vis.show()"
   ]
  },
  {
   "cell_type": "code",
   "execution_count": 3,
   "metadata": {},
   "outputs": [
    {
     "data": {
      "image/png": "[encoded data removed]",
      "text/plain": [
       "<Figure size 640x480 with 1 Axes>"
      ]
     },
     "metadata": {},
     "output_type": "display_data"
    }
   ],
   "source": [
    "draw_example_1()"
   ]
  },
  {
   "cell_type": "markdown",
   "metadata": {},
   "source": [
    "### Wprowadzenie"
   ]
  },
  {
   "cell_type": "markdown",
   "metadata": {},
   "source": [
    "Czym jest otoczka wypukła?  \n",
    "Podzbiór płaszczyzny $Q$ nazywamy wypukłym iff, gdy dla dowolnej pary punktów $p, q \\in Q$ odcinek $\\overline{pq}$ jest całkowicie zawarty w $Q$.  \n",
    "Otoczka wypukła $\\mathcal{CH}(Q)$ zbioru $Q$ jest najmniejszym wypukłym zbiorem zawierającym $Q$."
   ]
  },
  {
   "cell_type": "markdown",
   "metadata": {},
   "source": [
    "### Zastosowania otoczku wypukłej"
   ]
  },
  {
   "cell_type": "markdown",
   "metadata": {},
   "source": [
    "Otoczki wypukłe - w szczególności otoczki wypukłe w przestrzeni trójwymiarowej - są spotykane w różnych zastosowaniach. Na przykład używa się ich do przyspieszania wykrywania kolizji w animacji komputerowej. Przepuśćmy, że chcemy sprawdzić, czy dwa obiekty $\\mathcal{P_1}$ i $\\mathcal{P_2}$ przecinają się. Jeśli przez większość czasu odpowiedź na to pytanie jest negatywna, to opłaca się następująca strategia. Przybliżamy obiekty przez prostrze obiekty $\\widehat{\\mathcal{P_1}}$ i $\\widehat{\\mathcal{P_2}}$, które zawierały orginały. Jeśli chcemy sprwadzić, czy $\\mathcal{P_1}$ i $\\mathcal{P_2}$ przecinają się, najpierw sprawdzamy, czy przecinają się $\\widehat{\\mathcal{P_1}}$ i $\\widehat{\\mathcal{P_2}}$. Jeśli występuje ten przypadek, to powinniśmy wykonać test na orginalnych obiektach, który jest przepuszczalnie znacznie kosztowniejszy.  \n",
    "Sprawdzanie przecięcia otoczek wypukłych jest bardziej skomplikowane niż dla sfer - choć mimo to łatwiejsze niż dla obiektów niewypukłych - ale otoczki wypukłe mogą dużo lepiej przybliżać większość obiektów."
   ]
  },
  {
   "cell_type": "markdown",
   "metadata": {},
   "source": [
    "## Generowanie losowych punktów na płaszczyźnie "
   ]
  },
  {
   "cell_type": "markdown",
   "metadata": {},
   "source": [
    "Zapoznaliśmy się i wiemy jak generowac losowe punkty na płaszczyźnie z laboratorium I (współrzędne rzeczywiste typu *double* - podwójna precyzja obliczeń). Przygotuj zestawy punktów, które będzie można użyć jako testowe dla algorytmów obliczania otoczki wypukłej."
   ]
  },
  {
   "cell_type": "markdown",
   "metadata": {},
   "source": [
    "Uzupełnij funkcję ```generate_uniform_points```."
   ]
  },
  {
   "cell_type": "code",
   "execution_count": 5,
   "metadata": {},
   "outputs": [],
   "source": [
    "def generate_uniform_points(left=-100, right=100, n=100):\n",
    "    \"\"\"\n",
    "    Funkcja generuje równomiernie n punktów na kwadwratowym\n",
    "    obszarze od left do right (jednakowo na osi y)\n",
    "    o współrzędnych rzeczywistych\n",
    "    :param left: lewy kraniec przedziału\n",
    "    :param right: prawy kraniec przedziału\n",
    "    :param n: ilość generowanych punktów\n",
    "    :return: tablica punktów w postaci krotek współrzędnych\n",
    "             np. [(x1, y1), (x2, y2), ... (xn, yn)]\n",
    "    \"\"\"\n",
    "    return [np.random.uniform(left, right, 2) for _ in range(n)]"
   ]
  },
  {
   "cell_type": "markdown",
   "metadata": {},
   "source": [
    "<span style=\"color:red\">Ćw.</span> Wygeneruj $100$ losowych punktów w przestrzeni 2D o współrzędnych z przedziału $x \\in \\langle -100,100 \\rangle$ oraz $y \\in \\langle -100,100\\rangle$."
   ]
  },
  {
   "cell_type": "code",
   "execution_count": 6,
   "metadata": {},
   "outputs": [],
   "source": [
    "points_a = generate_uniform_points(-100, 100, 100)"
   ]
  },
  {
   "cell_type": "markdown",
   "metadata": {},
   "source": [
    "Zwizualizuj wygenerowane punkty."
   ]
  },
  {
   "cell_type": "code",
   "execution_count": 7,
   "metadata": {},
   "outputs": [
    {
     "data": {
      "image/png": "[encoded data removed]",
      "text/plain": [
       "<Figure size 640x480 with 1 Axes>"
      ]
     },
     "metadata": {},
     "output_type": "display_data"
    }
   ],
   "source": [
    "# visualize(points_a)\n",
    "vis = Visualizer()\n",
    "vis.add_point(points_a)\n",
    "vis.show()"
   ]
  },
  {
   "cell_type": "markdown",
   "metadata": {},
   "source": [
    "Uzupełnij funkcję ```generate_circle_points```."
   ]
  },
  {
   "cell_type": "code",
   "execution_count": 8,
   "metadata": {},
   "outputs": [],
   "source": [
    "def generate_circle_points(O, R, n=100):\n",
    "    \"\"\"\n",
    "    Funkcja generuje jednostajnie n punktów na okręgu o środku O i promieniu R\n",
    "    :param O: krotka współrzędnych x, y określająca środek okręgu\n",
    "    :param R: promień okręgu\n",
    "    :param n: ilość generowanych punktów\n",
    "    :return: tablica punktów w postaci krotek współrzędnych\n",
    "    \"\"\"\n",
    "    x0,y0 = O\n",
    "    points = [None for _ in range(n)]\n",
    "    for i in range(n):\n",
    "        angle = np.random.uniform(0, 2 * np.pi)\n",
    "        x = R*np.cos(angle)\n",
    "        y = R*np.sin(angle)\n",
    "        points[i] =  (x0+x, y0+y) \n",
    "    return points"
   ]
  },
  {
   "cell_type": "markdown",
   "metadata": {},
   "source": [
    "<span style=\"color:red\">Ćw.</span> Wygeneruj $100$ losowych punktów w przestrzeni 2D leżących na okręgu o środku $O = (0,0)$ i promieniu $R = 10$."
   ]
  },
  {
   "cell_type": "code",
   "execution_count": 9,
   "metadata": {},
   "outputs": [],
   "source": [
    "points_b = generate_circle_points((0, 0), 10, 100)"
   ]
  },
  {
   "cell_type": "markdown",
   "metadata": {},
   "source": [
    "Zwizualizuj wygenerowane punkty."
   ]
  },
  {
   "cell_type": "code",
   "execution_count": 10,
   "metadata": {},
   "outputs": [
    {
     "data": {
      "image/png": "[encoded data removed]",
      "text/plain": [
       "<Figure size 640x480 with 1 Axes>"
      ]
     },
     "metadata": {},
     "output_type": "display_data"
    }
   ],
   "source": [
    "# visualize(points_b)\n",
    "vis.clear()\n",
    "vis.add_point(points_b)\n",
    "vis.show()"
   ]
  },
  {
   "cell_type": "markdown",
   "metadata": {},
   "source": [
    "Jak można było zauważyć, to funkcje ```generate_uniform_points``` oraz ```generate_circle_points``` są takie same jak w laboratorium I."
   ]
  },
  {
   "cell_type": "markdown",
   "metadata": {},
   "source": [
    "Uzupełnij funkcję ```generate_rectangle_points```."
   ]
  },
  {
   "cell_type": "code",
   "execution_count": 17,
   "metadata": {},
   "outputs": [],
   "source": [
    "def get_collinear_points_formula(a, b):\n",
    "    x1,y1 = a\n",
    "    x2, y2 = b\n",
    "    v = [x2-x1, y2-y1]\n",
    "    x = lambda t: x1 + t*v[0]\n",
    "    y = lambda t: y1 + t*v[1]\n",
    "    P = lambda t: (x(t), y(t))\n",
    "    return P"
   ]
  },
  {
   "cell_type": "code",
   "execution_count": 24,
   "metadata": {},
   "outputs": [],
   "source": [
    "def calc_line_length(a,b):\n",
    "    return np.sqrt((a[0]-b[0])**2 + (a[1]-b[1])**2)"
   ]
  },
  {
   "cell_type": "code",
   "execution_count": 25,
   "metadata": {},
   "outputs": [],
   "source": [
    "def generate_rectangle_points(a=(-10, -10), b=(10, -10), c=(10, 10), d=(-10, 10), n=100):\n",
    "    '''\n",
    "    Funkcja generuje n punktów na obwodzie prostokąta\n",
    "    o wierzchołkach w punktach a, b, c i d\n",
    "    :param a: lewy-dolny wierzchołek prostokąta\n",
    "    :param b: prawy-dolny wierzchołek prostokąta\n",
    "    :param c: prawy-górny wierzchołek prostokąta\n",
    "    :param d: lewy-górny wierzchołek prostokąta\n",
    "    :param n: ilość generowanych punktów\n",
    "    :return: tablica punktów w postaci krotek współrzędnych\n",
    "    '''\n",
    "    lines = [(a,b),(b,c),(c,d),(d,a)]\n",
    "    line_formulas = [get_collinear_points_formula(*l) for l in lines]\n",
    "    probability_distribiution = np.array([calc_line_length(*l) for l in lines])\n",
    "    probability_distribiution /= probability_distribiution.sum()\n",
    "    points = [None for _ in range(n)]\n",
    "    for i in range(n):\n",
    "        points[i] = np.random.choice(line_formulas,p=probability_distribiution)(np.random.random())\n",
    "\n",
    "    return points"
   ]
  },
  {
   "cell_type": "markdown",
   "metadata": {},
   "source": [
    "<span style=\"color:red\">Ćw.</span> Wygeneruj $100$ losowych punktów w przestrzeni 2D leżących na obwodzie prostokąta, którego wyznaczają wierzchołki\n",
    "$(-10,-10), (10,-10), (10,10)$ oraz $(-10,10)$."
   ]
  },
  {
   "cell_type": "code",
   "execution_count": 29,
   "metadata": {},
   "outputs": [],
   "source": [
    "points_c = generate_rectangle_points(\n",
    "    (-10, -10), (10, -10), (10, 10), (-10, 10), 100)"
   ]
  },
  {
   "cell_type": "markdown",
   "metadata": {},
   "source": [
    "Zwizualizuj wygenerowane punkty."
   ]
  },
  {
   "cell_type": "code",
   "execution_count": 30,
   "metadata": {},
   "outputs": [
    {
     "data": {
      "image/png": "[encoded data removed]",
      "text/plain": [
       "<Figure size 640x480 with 1 Axes>"
      ]
     },
     "metadata": {},
     "output_type": "display_data"
    }
   ],
   "source": [
    "# visualize(points_c)\n",
    "vis.clear()\n",
    "vis.add_point(points_c)\n",
    "vis.show()"
   ]
  },
  {
   "cell_type": "markdown",
   "metadata": {},
   "source": [
    "Uzupełnij funkcję ```generate_square_points```."
   ]
  },
  {
   "cell_type": "code",
   "execution_count": 31,
   "metadata": {},
   "outputs": [],
   "source": [
    "def generate_square_points(a=(0, 0), b=(10, 0), c=(10, 10), d=(0, 10),\n",
    "                           axis_n=25, diag_n=20):\n",
    "    \n",
    "    \n",
    "    '''\n",
    "    Funkcja generuje axis_n punktów na dwóch bokach kwadratu\n",
    "    leżących na osiach x i y oraz diag_n punktów na\n",
    "    przekątnych kwadratu, którego wyznaczają punkty\n",
    "    a, b, c i d.\n",
    "    :param a: lewy-dolny wierzchołek kwadratu\n",
    "    :param b: prawy-dolny wierzchołek kwadratu\n",
    "    :param c: prawy-górny wierzchołek kwadratu\n",
    "    :param d: lewy-górny wierzchołek kwadratu\n",
    "    :param axis_n: ilość generowanych punktów na każdym\n",
    "                   z dwóch boków kwadratu równoległych do osi x i y\n",
    "    :param diag_n: ilość generowanych punktów na każdej\n",
    "                   przekątnej kwadratu\n",
    "    :return: tablica punktów w postaci krotek współrzędnych\n",
    "    '''\n",
    "\n",
    "    axis_lines = [(a,b), (a,d)]\n",
    "    diag_lines = [(a,c), (b,d)]\n",
    "    lines = axis_lines + diag_lines\n",
    "    line_formulas = [get_collinear_points_formula(*l) for l in lines]\n",
    "    points = []\n",
    "    for i in range(axis_n):\n",
    "        points.append(np.random.choice(line_formulas[:2])(np.random.random())) \n",
    "    for i in range(diag_n):\n",
    "        points.append(np.random.choice(line_formulas[2:])(np.random.random())) \n",
    "    return points\n"
   ]
  },
  {
   "cell_type": "markdown",
   "metadata": {},
   "source": [
    "<span style=\"color:red\">Ćw.</span> Wygeneruj losowe punktów w przestrzeni 2D w następujący sposób: po 25 punktów na dwóch bokach kwadratu leżących na osiach i po 20 punktów na przekątnych kwadratu, zawierający punkty wyznaczające kwadrat $(0, 0), (10, 0), (10, 10)$ oraz $(0, 10)$."
   ]
  },
  {
   "cell_type": "code",
   "execution_count": 32,
   "metadata": {},
   "outputs": [],
   "source": [
    "points_d = generate_square_points(\n",
    "    (0, 0), (10, 0), (10, 10), (0, 10), 25, 20)"
   ]
  },
  {
   "cell_type": "markdown",
   "metadata": {},
   "source": [
    "Zwizualizuj wygenerowane punkty."
   ]
  },
  {
   "cell_type": "code",
   "execution_count": 33,
   "metadata": {},
   "outputs": [
    {
     "data": {
      "image/png": "[encoded data removed]",
      "text/plain": [
       "<Figure size 640x480 with 1 Axes>"
      ]
     },
     "metadata": {},
     "output_type": "display_data"
    }
   ],
   "source": [
    "# visualize(points_d)\n",
    "vis.clear()\n",
    "vis.add_point(points_d)\n",
    "vis.show()"
   ]
  },
  {
   "cell_type": "markdown",
   "metadata": {},
   "source": [
    "## Algorytm Grahama oraz algorytm Jarvisa"
   ]
  },
  {
   "cell_type": "markdown",
   "metadata": {},
   "source": [
    "Po przygotowaniu przykładowych zbiorów danych i ich zwizualizowaniu, chcemy zobaczyć jak buduje się dla nich otoczka wypukła z wykorzystaniem różnych algortymów.  \n",
    "W tych dwóch algorytmach potrzebna będzie funkcja którą już dobrze znamy, czyli funkcja, która sprawdza po której stronie prostej znajduje się punkt.  \n",
    "Dla każdego algorytmu trzeba będzie zaimplementować dwie funkcje obliczające otoczkę wypukłę, ze względu, że jedna z nich będzie miała możliwość wyświetlania kroków postępowania w algorytmie. Druga funkcja będzie uzyteczna do porównywania czasów dla różnych zbiorów danych i względęm algorytmów.  \n",
    "W graficznej funkcji danego algorytmu, jednym kolorem powinny być zaznaczone wszystkie punkty zbioru wyjściowego, drugim kolorem boki aktualne rozpatrywane, a trzecim boki wielokąta otoczki. Po zakończeniu wyznaczania otoczki, wierzchołki otoczki powinny być wyróżnione (osobnym kolorem bądź kształtem).  "
   ]
  },
  {
   "cell_type": "markdown",
   "metadata": {},
   "source": [
    "### Algorytm Grahama"
   ]
  },
  {
   "cell_type": "markdown",
   "metadata": {},
   "source": [
    "Algorytm Grahama tworzy otoczkę wypukłą poprzez utrzymywanie stosu $S$, w którym znajdują się punkty, które mogą, ale nie muszą tworzyć otoczki wypukłej. Za każdym razem jest wstawiany na stos (push) jeden punkt z zbioru punktów $Q$ i jest on usuwany ze stosu (pop), jeżeli nie jest punktem $\\mathcal{CH}(Q)$. Kiedy algorytm kończy się, stos $S$ zawiera tylko punkty otoczki wypukłej $\\mathcal{CH}(Q)$ w kierunku przeciwnym do ruchu wskazówek zegera.\n",
    "\n",
    "---\n",
    "\n",
    "Procedura $\\mathtt{Graham-Build(Q)}$ przyjmuje zbiór punktów $Q$, gdzie $|Q| \\geq 3$. Wywołuje ona funkcję $\\mathtt{TOP(S)}$, która zwraca punkt z góry stosu bez zmieniania $S$ oraz\n",
    "$\\mathtt{NEXT-TO-TOP(S)}$, która zwraca punkt ponieżej góry stosu $S$, bez zmieniania stosu. Funkcja $\\mathtt{PUSH(p, S)}$ wstawia punkt $p$ na stos $S$. Funkcja $\\mathtt{POP(p, S)}$ usuwa punkt $p$ ze stosu $S$."
   ]
  },
  {
   "cell_type": "markdown",
   "metadata": {},
   "source": [
    "$\\mathtt{Graham-Build(Q)}$  \n",
    "1)  niech $p_0$ będzie punktem w zbiorze Q z najmniejszą współrzędną $y$,  \n",
    "    oraz najmniejszą współrzędną $x$ w przypadku, gdy wiele punktów ma tą samą współrzędną $x$  \n",
    "    \n",
    "2)  nich $\\mathtt{\\langle p_1, p_2, \\dots, p_m \\rangle}$ będzie pozostałym zbiorem punktów w $Q$ posortowanym  \n",
    "    zgodnie z przeciwnym ruchem wskazówek zegara wokół punktu $p_0$  \n",
    "    (jeżeli więcej niż jeden punkt ma ten sam kąt to usuwamy wszystkie punkty  \n",
    "     z wyjątkiem tego najbardziej oddalonego od $p_0$)  \n",
    "3) stwórz pusty stos $S$  \n",
    "4) $\\mathtt{PUSH(p_0, S)}$\n",
    "5) $\\mathtt{PUSH(p_1, S)}$\n",
    "6) $\\mathtt{PUSH(p_2, S)}$\n",
    "7) **for** $i = 3$ **to** m  \n",
    "8) &emsp;**while** kąt utworzony przez $\\mathtt{NEXT-TO-TOP(S)}$, $\\mathtt{TOP(S)}$ oraz $p_i$ tworzy lewostronny skręt\n",
    "9) &emsp;&emsp;$\\mathtt{POP(S)}$\n",
    "10) &emsp;$\\mathtt{PUSH(p_i, S)}$\n",
    "11) **return** $S$"
   ]
  },
  {
   "cell_type": "code",
   "execution_count": 38,
   "metadata": {},
   "outputs": [],
   "source": [
    "def mat_det(a, b, c):\n",
    "    mat = np.array([[*a,1],[*b,1],[*c,1]])\n",
    "    return (np.linalg.det(mat))"
   ]
  },
  {
   "cell_type": "code",
   "execution_count": 39,
   "metadata": {},
   "outputs": [],
   "source": [
    "def orient(a,b,c,eps=1e-8):\n",
    "    \"\"\"\n",
    "    Celem funkcji jest stworzenie porządku dla punktów. Sprawdza czy mniejszy kąt względem osi OX tworzy prosta ab czy ac\n",
    "    \"\"\"\n",
    "    det = mat_det(a,b,c)\n",
    "    if abs(det) <= eps:\n",
    "        return 0\n",
    "    if det < eps:\n",
    "        return 1\n",
    "    return -1"
   ]
  },
  {
   "cell_type": "markdown",
   "metadata": {},
   "source": [
    "\n",
    "---\n",
    "\n",
    "Lewostronny skręt oznacza, że dla trzech kolejnych punktów $a, b, c$, punkt $b$ leży po lewej stronie prostej $ac$.  \n",
    "  \n",
    "\n",
    "<span style=\"color:red\">Ćw.</span> Uzupełnij funkcję ```graham_algorithm```, która oblicza otoczkę wypukłą korzystając z algorytmu Grahama."
   ]
  },
  {
   "cell_type": "code",
   "execution_count": 40,
   "metadata": {},
   "outputs": [],
   "source": [
    "from functools import cmp_to_key\n",
    "def sort_by_angleV2(points):\n",
    "    a0_idx = 0\n",
    "    a0 = points[0]\n",
    "    for i in range(1,len(points)):\n",
    "        if a0[1] > points[i][1]:\n",
    "            a0 = points[i]\n",
    "            a0_idx = i\n",
    "\n",
    "    points[0],points[a0_idx] = points[a0_idx],points[0] \n",
    "    cmp = lambda x,y: orient(a0,x,y)\n",
    "    return [a0] + sorted(points[1:],key=cmp_to_key(cmp))"
   ]
  },
  {
   "cell_type": "code",
   "execution_count": 53,
   "metadata": {},
   "outputs": [],
   "source": [
    "def graham_algorithm(Q):\n",
    "    '''\n",
    "    Funkcja buduje otoczkę wypukłą dla podanego\n",
    "    zbioru punktów Q algorymem Grahama\n",
    "    :parm Q: zbiór punktów\n",
    "    :return: tablica punktów w postaci krotek współrzędnych\n",
    "    '''\n",
    "    sorted_points = sort_by_angleV2(Q)\n",
    "    s = [*sorted_points[:2]]\n",
    "    for i in range(2,len(sorted_points)):\n",
    "        p = sorted_points[i]\n",
    "        while len(s) > 1 and orient(s[-2],s[-1],p) >= 0:\n",
    "            s.pop()\n",
    "        s.append(p)\n",
    "    return s"
   ]
  },
  {
   "cell_type": "markdown",
   "metadata": {},
   "source": [
    "Przetestuj swoją implementacje algorytmu Grahama, by sprawdzić czy poprawnie obliczana jest otoczka."
   ]
  },
  {
   "cell_type": "code",
   "execution_count": 56,
   "metadata": {},
   "outputs": [
    {
     "name": "stdout",
     "output_type": "stream",
     "text": [
      "Lab 2, task 1:\n",
      "\tTest 1: Passed\n",
      "\tTest 2: Passed\n",
      "\tTest 3: Passed\n",
      "\tTest 4: Passed\n",
      "\tTest 5: WRONG ANSWER\n",
      "\t\tOutput:   [(-0.00027969503264589635, -0.9999999608853436), (0.002605435221465321, -0.9999966058478933), (0.006364233611791744, -0.9999797480601967), (0.010502011840038067, -0.9999448523530243), (0.014996738955532388, -0.999887542587015), (0.020027278142875613, -0.9997994339517241), (0.023630349859118063, -0.9997207642964788), (0.028857656298430776, -0.999583...\n",
      "\t\tExpected: [(-0.9998456727740328, 0.017567886470535515), (-0.9999066111976357, 0.013666341253615146), (-0.9999097856527912, 0.013432071909764622), (-0.9999131277882609, 0.01318092852180958), (-0.9999151687762107, 0.013025177589655271), (-0.9999236593517755, 0.012356191506870385), (-0.9999295253527812, 0.01187199763146682), (-0.9999341564245192, 0.011475313310...\n",
      "\tTest 6: Passed\n",
      "\tTest 7: Passed\n",
      "\tTest 8: WRONG ANSWER\n",
      "\t\tOutput:   [(3.5192864828680724e-10, -9.999737017848142e-10), (-5.602386406101392e-10, -3.1209221947585005e-10)]\n",
      "\t\tExpected: [(-9.99920936032601e-10, 2.3464409643053305e-10), (-9.998478476142415e-10, -6.612378025379458e-10), (-9.982190210924327e-10, -7.364787668757562e-10), (-9.925273310453238e-10, -9.951014364439659e-10), (-9.32386421555203e-10, -9.996517072241096e-10), (3.5192864828680724e-10, -9.999737017848142e-10), (5.695966524614045e-10, -9.999574139117813e-10), (7...\n",
      "\tTest 9: WRONG ANSWER\n",
      "\t\tOutput:   [(33.51197443572957, -99.0), (66.60550662295694, -99.0), (99.0, -86.97006437402749), (99.0, 97.33980019645674), (98.07781612209584, 99.0), (-98.24845921119586, 99.0), (-99.0, 81.58820520580741), (-99.0, -94.22020334060896), (-78.96642754716208, -99.0), (52.98525137621135, -99.0), (99.0, -87.8602244287434), (99.0, 96.27877243403839), (57.82175239653...\n",
      "\t\tExpected: [(-98.92626151979, 99.0), (-99.0, 98.90060283777726), (-99.0, -98.81943551511642), (-98.86010739059158, -99.0), (98.9668868184126, -99.0), (99.0, -98.98981089336407), (99.0, 98.97839492836869), (98.97313209577547, 99.0)]\n",
      "\tTest 10: WRONG ANSWER\n",
      "\t\tOutput:   [(0.005038538485259753, -2.999403495543021), (0.06630650505110142, -2.9982020949140726), (0.12333456556562226, -2.9965798236916967), (0.17116593796892138, -2.9948514591596003), (0.18391766851765953, -2.9941684541165223), (0.20662334064055418, -2.9924086228117175), (0.305936408685114, -2.9842695941910464), (0.4077318388724699, -2.971992751559256), (...\n",
      "\t\tExpected: [(2.9999804547189286, -0.00065842187547357), (-1.2491783131935992, 2.724706268506895), (-1.2588861312870825, 2.7214787522315733), (-1.2924689897372097, 2.70697731973898), (-1.3942555881239431, 2.655560047280213), (-1.4235043146500765, 2.6405204935859783), (-1.4460082061332207, 2.62770244924426), (-1.4732657484302745, 2.611985058906677), (-1.5109546...\n",
      "\tTest 11: WRONG ANSWER\n",
      "\t\tOutput:   [(0.00011007523276019272, -2.9999994065872797), (0.0056499482822205275, -2.9999945985352667), (0.007908840832329291, -2.9999844714460884), (0.0009181847652973843, -2.999998258629978), (0.005594465825747804, -2.999992501416366), (0.010971956341749262, -2.9999789841774867), (0.005727033400461137, -2.999987875044755), (0.0008838616287356666, -2.999998...\n",
      "\t\tExpected: [(2.9999978992185663, -2.0927309532067398e-05), (-1.2485375638735479, 2.727839366084395), (-1.2487381694042077, 2.727755468235654), (-1.2497209228588917, 2.7273053789980044), (-1.2534996245091412, 2.725570580378685), (-1.255025545364526, 2.724867969228775), (-1.2565849722682152, 2.7241498478105917), (-1.2578820940938173, 2.7235513889205603), (-1.26...\n",
      "Result: 6/11\n",
      "Time: 118.110s\n"
     ]
    }
   ],
   "source": [
    "Test().runtest(1, graham_algorithm)"
   ]
  },
  {
   "cell_type": "markdown",
   "metadata": {},
   "source": [
    "<span style=\"color:red\">Ćw.</span> Uzupełnij funkcję ```graham_algorithm_draw```, która oblicza otoczkę wypukłą korzystając z algorytmu Grahama z dodatkową opcją wyświetlania kroków algorytmu."
   ]
  },
  {
   "cell_type": "code",
   "execution_count": null,
   "metadata": {},
   "outputs": [],
   "source": [
    "def graham_algorithm_draw(Q):\n",
    "    '''\n",
    "    Funkcja buduje otoczkę wypukłą dla podanego\n",
    "    zbioru punktów Q algorymem Grahama oraz\n",
    "    pokazuje poszczególne kroki algorymu\n",
    "    :parm Q: zbiór punktów\n",
    "    :return: krotka w postaci (tablica punktów w postaci krotek współrzędnych,\n",
    "                                wizualizer pokazujący kroki algorytmu) \n",
    "    '''\n",
    "    raise Exception(\"Unimplemented\")"
   ]
  },
  {
   "cell_type": "markdown",
   "metadata": {},
   "source": [
    "Zwizualizuj swoją implementację algorytmu."
   ]
  },
  {
   "cell_type": "markdown",
   "metadata": {},
   "source": [
    "Zbiór danych A"
   ]
  },
  {
   "cell_type": "code",
   "execution_count": null,
   "metadata": {},
   "outputs": [],
   "source": [
    "graham_points_a, vis_graham_a = graham_algorithm_draw(points_a)"
   ]
  },
  {
   "cell_type": "code",
   "execution_count": null,
   "metadata": {},
   "outputs": [],
   "source": [
    "vis_graham_a.show_gif(interval=200)"
   ]
  },
  {
   "cell_type": "code",
   "execution_count": null,
   "metadata": {},
   "outputs": [],
   "source": [
    "# visualize(graham_points_a)\n",
    "vis.clear()\n",
    "vis.add_point(points_a)\n",
    "vis.add_line_segment([(graham_points_a[i], graham_points_a[i+1]) for i in range(len(graham_points_a)-1)])\n",
    "vis.add_line_segment([graham_points_a[-1], graham_points_a[0]])\n",
    "vis.show()"
   ]
  },
  {
   "cell_type": "markdown",
   "metadata": {},
   "source": [
    "Zbiór danych B"
   ]
  },
  {
   "cell_type": "code",
   "execution_count": null,
   "metadata": {},
   "outputs": [],
   "source": [
    "graham_points_b, vis_graham_b = graham_algorithm_draw(points_b)"
   ]
  },
  {
   "cell_type": "code",
   "execution_count": null,
   "metadata": {},
   "outputs": [],
   "source": [
    "vis_graham_b.show_gif()"
   ]
  },
  {
   "cell_type": "code",
   "execution_count": null,
   "metadata": {},
   "outputs": [],
   "source": [
    "# visualize(graham_points_b)\n",
    "vis.clear()\n",
    "vis.add_point(points_b)\n",
    "vis.add_line_segment([(graham_points_b[i], graham_points_b[i+1]) for i in range(len(graham_points_b)-1)])\n",
    "vis.add_line_segment([graham_points_b[-1], graham_points_b[0]])\n",
    "vis.show()"
   ]
  },
  {
   "cell_type": "markdown",
   "metadata": {},
   "source": [
    "Zbiór danych C"
   ]
  },
  {
   "cell_type": "code",
   "execution_count": null,
   "metadata": {},
   "outputs": [],
   "source": [
    "graham_points_c, vis_graham_c = graham_algorithm_draw(points_c)"
   ]
  },
  {
   "cell_type": "code",
   "execution_count": null,
   "metadata": {},
   "outputs": [],
   "source": [
    "vis_graham_c.show_gif()"
   ]
  },
  {
   "cell_type": "code",
   "execution_count": null,
   "metadata": {},
   "outputs": [],
   "source": [
    "# visualize(graham_points_c)\n",
    "vis.clear()\n",
    "vis.add_point(points_c)\n",
    "vis.add_line_segment([(graham_points_c[i], graham_points_c[i+1]) for i in range(len(graham_points_c)-1)])\n",
    "vis.add_line_segment([graham_points_c[-1], graham_points_c[0]])\n",
    "vis.show()"
   ]
  },
  {
   "cell_type": "markdown",
   "metadata": {},
   "source": [
    "Zbiór danych D"
   ]
  },
  {
   "cell_type": "code",
   "execution_count": null,
   "metadata": {},
   "outputs": [],
   "source": [
    "graham_points_d, vis_graham_d = graham_algorithm_draw(points_d)"
   ]
  },
  {
   "cell_type": "code",
   "execution_count": null,
   "metadata": {},
   "outputs": [],
   "source": [
    "vis_graham_d.show_gif()"
   ]
  },
  {
   "cell_type": "code",
   "execution_count": null,
   "metadata": {},
   "outputs": [],
   "source": [
    "# visualize(graham_points_d)\n",
    "vis.clear()\n",
    "vis.add_point(points_d)\n",
    "vis.add_line_segment([(graham_points_d[i], graham_points_d[i+1]) for i in range(len(graham_points_d)-1)])\n",
    "vis.add_line_segment([graham_points_d[-1], graham_points_d[0]])\n",
    "vis.show()"
   ]
  },
  {
   "cell_type": "markdown",
   "metadata": {},
   "source": [
    "### Algorytm Jarvisa"
   ]
  },
  {
   "cell_type": "markdown",
   "metadata": {},
   "source": [
    "Algorytm Jarvisa oblicza otoczkę wypukłą dla zbioru punktów $Q$ przez technikę zwaną owijaniem paczki (*package wrapping*) lub owijaniem prezentu (*gift wrapping*). Algorytm Jarvisa buduje sekwencję $H = \\langle p_1, p_2, \\dots, p_m \\rangle$ będącą wierzchołkami $\\mathcal{CH}(Q)$. Zaczynamy od punktu $p_0$, następny punkt $p_1$ w otoczce wypukłej ma najmniejszy kąt w odniesieniu do $p_0$ (w przypadku takiego samego kąta - wybiera się punkt najdalej od $p_0$). Podobnie, gdy $p_2$ ma najmniejszy kąt w odniesieniu do $p_1$, itd.. Zauważyć warto, że możemy tym sposobem obliczyć lewy i prawy łańcuch otoczki wypukłej $\\mathcal{CH}(Q)$. Lewy łańcuch buduje się podobnie. Gdy osiągniemy najwyższy wierzchołej w prawym łańcuchu $p_k$, wybieramy wierzchołek $p_{k+1}$, który ma najmniejszy kąt w odniesieniu do $p_k$, ale od ujemnej osi-$x$. Można zaimplementować algorytm Jarvisa bez konstruowania pomocniczych łańcuchów - lewego i prawego. Taka implementacja utrzymuje śledzenie kąta ostatniej strony otoczki wypukłej i wymaga sekwencji kątów boków otoczki tylko rosnącej. (Patrząc na trzy ostatnie punkty jesteśmy w stanie obliczyć jaki punkt należy włączyć do $\\mathcal{CH}(Q)$ w zależności od budowanego punktu)"
   ]
  },
  {
   "cell_type": "markdown",
   "metadata": {},
   "source": [
    "<span style=\"color:red\">Ćw.</span> Uzupełnij funkcję ```jarvis_algorithm```, która oblicza otoczkę wypukłą korzystając z algorytmu Jarvisa."
   ]
  },
  {
   "cell_type": "code",
   "execution_count": null,
   "metadata": {},
   "outputs": [],
   "source": [
    "def jarvis_algorithm(Q):\n",
    "    '''\n",
    "    Funkcja buduje otoczkę wypukłą dla podanego\n",
    "    zbioru punktów Q algorymem Jarvisa\n",
    "    :parm Q: zbiór punktów\n",
    "    :return: tablica punktów w postaci krotek współrzędnych\n",
    "    '''\n",
    "    raise Exception(\"Unimplemented\")"
   ]
  },
  {
   "cell_type": "markdown",
   "metadata": {},
   "source": [
    "Przetestuj swoją implementacje algorytmu Jarvisa, by sprawdzić czy poprawnie obliczana jest otoczka."
   ]
  },
  {
   "cell_type": "code",
   "execution_count": null,
   "metadata": {},
   "outputs": [],
   "source": [
    "Test().runtest(2, jarvis_algorithm)"
   ]
  },
  {
   "cell_type": "markdown",
   "metadata": {},
   "source": [
    "<span style=\"color:red\">Ćw.</span> Uzupełnij funkcję ```jarvis_algorithm_draw```, która oblicza otoczkę wypukłą korzystając z algorytmu Jarvisa z dodatkową opcją wyświetlania kroków algorytmu."
   ]
  },
  {
   "cell_type": "code",
   "execution_count": null,
   "metadata": {},
   "outputs": [],
   "source": [
    "def jarvis_algorithm_draw(Q):\n",
    "    '''\n",
    "    Funkcja buduje otoczkę wypukłą dla podanego\n",
    "    zbioru punktów Q algorymem Jarvisa oraz \n",
    "    pokazuje poszczególne kroki algorymu\n",
    "    :parm Q: zbiór punktów\n",
    "    :return: krotka w postaci  (tablica punktów w postaci krotek współrzędnych,\n",
    "                                wizualizer pokazujący kroki algorytmu) \n",
    "    '''\n",
    "    raise Exception(\"Unimplemented\")"
   ]
  },
  {
   "cell_type": "markdown",
   "metadata": {},
   "source": [
    "Zwizualizuj swoją implementację algorytmu."
   ]
  },
  {
   "cell_type": "markdown",
   "metadata": {},
   "source": [
    "Zbiór danych A"
   ]
  },
  {
   "cell_type": "code",
   "execution_count": null,
   "metadata": {},
   "outputs": [],
   "source": [
    "jarvis_points_a, vis_jarvis_a = jarvis_algorithm_draw(points_a)"
   ]
  },
  {
   "cell_type": "code",
   "execution_count": null,
   "metadata": {},
   "outputs": [],
   "source": [
    "vis_jarvis_a.show_gif()"
   ]
  },
  {
   "cell_type": "code",
   "execution_count": null,
   "metadata": {},
   "outputs": [],
   "source": [
    "# visualize(jarvis_points_a)\n",
    "vis.clear()\n",
    "vis.add_point(points_a)\n",
    "vis.add_line_segment([(jarvis_points_a[i], jarvis_points_a[i+1]) for i in range(len(jarvis_points_a)-1)])\n",
    "vis.add_line_segment([jarvis_points_a[-1], jarvis_points_a[0]])\n",
    "vis.show()"
   ]
  },
  {
   "cell_type": "markdown",
   "metadata": {},
   "source": [
    "Zbiór danych B"
   ]
  },
  {
   "cell_type": "code",
   "execution_count": null,
   "metadata": {},
   "outputs": [],
   "source": [
    "jarvis_points_b, vis_jarvis_b = jarvis_algorithm_draw(points_b)"
   ]
  },
  {
   "cell_type": "code",
   "execution_count": null,
   "metadata": {},
   "outputs": [],
   "source": [
    "vis_jarvis_b.show_gif()"
   ]
  },
  {
   "cell_type": "code",
   "execution_count": null,
   "metadata": {},
   "outputs": [],
   "source": [
    "# visualize(jarvis_points_b)\n",
    "vis.clear()\n",
    "vis.add_point(points_b)\n",
    "vis.add_line_segment([(jarvis_points_b[i], jarvis_points_b[i+1]) for i in range(len(jarvis_points_b)-1)])\n",
    "vis.add_line_segment([jarvis_points_b[-1], jarvis_points_b[0]])\n",
    "vis.show()"
   ]
  },
  {
   "cell_type": "markdown",
   "metadata": {},
   "source": [
    "Zbiór danych C"
   ]
  },
  {
   "cell_type": "code",
   "execution_count": null,
   "metadata": {},
   "outputs": [],
   "source": [
    "jarvis_points_c, vis_jarvis_c = jarvis_algorithm_draw(points_c)"
   ]
  },
  {
   "cell_type": "code",
   "execution_count": null,
   "metadata": {},
   "outputs": [],
   "source": [
    "vis_jarvis_c.show_gif()"
   ]
  },
  {
   "cell_type": "code",
   "execution_count": null,
   "metadata": {},
   "outputs": [],
   "source": [
    "# visualize(jarvis_points_c)\n",
    "vis.clear()\n",
    "vis.add_point(points_c)\n",
    "vis.add_line_segment([(jarvis_points_c[i], jarvis_points_c[i+1]) for i in range(len(jarvis_points_c)-1)])\n",
    "vis.add_line_segment([jarvis_points_c[-1], jarvis_points_c[0]])\n",
    "vis.show()"
   ]
  },
  {
   "cell_type": "markdown",
   "metadata": {},
   "source": [
    "Zbiór danych D"
   ]
  },
  {
   "cell_type": "code",
   "execution_count": null,
   "metadata": {},
   "outputs": [],
   "source": [
    "jarvis_points_d, vis_jarvis_d = jarvis_algorithm_draw(points_d)"
   ]
  },
  {
   "cell_type": "code",
   "execution_count": null,
   "metadata": {},
   "outputs": [],
   "source": [
    "vis_jarvis_d.show_gif()"
   ]
  },
  {
   "cell_type": "code",
   "execution_count": null,
   "metadata": {},
   "outputs": [],
   "source": [
    "# visualize(jarvis_points_d)\n",
    "vis.clear()\n",
    "vis.add_point(points_d)\n",
    "vis.add_line_segment([(jarvis_points_d[i], jarvis_points_d[i+1]) for i in range(len(jarvis_points_d)-1)])\n",
    "vis.add_line_segment([jarvis_points_d[-1], jarvis_points_d[0]])\n",
    "vis.show()"
   ]
  },
  {
   "cell_type": "markdown",
   "metadata": {},
   "source": [
    "\n",
    "---\n",
    "\n",
    "Po zobaczeniu i przetestowaniu wstępnie zbiorów danych, przyszła kolej na porównanie czasów działania dla różnych danych. Do tego potrzebujemy bardziej miarodajnych zbiorów danych.  \n",
    "<span style=\"color:red\">Ćw.</span> Stwórz zmodyfikowane zbiory danych A, B, C oraz D - tak jak uważasz za słuszne."
   ]
  },
  {
   "cell_type": "code",
   "execution_count": null,
   "metadata": {},
   "outputs": [],
   "source": [
    "# prepare your data to time-test"
   ]
  },
  {
   "cell_type": "markdown",
   "metadata": {},
   "source": [
    "Po przygotowaniu zbioru danych, dokonaj porównania czasowego  \n",
    "<span style=\"color:red\">Ćw.</span> Porównaj zmodyfikowane zbiory danych A, B, C oraz D dla algorytmów Grahama i Jarvisa."
   ]
  },
  {
   "cell_type": "code",
   "execution_count": null,
   "metadata": {},
   "outputs": [],
   "source": [
    "# compare your sets of data "
   ]
  },
  {
   "cell_type": "markdown",
   "metadata": {},
   "source": [
    "WNIOSKI HERE  \n",
    "W sprawozdaniu napisz, czy Twój program działał poprawnie dla wszystkich zbiorów\n",
    "danych oraz opisz krótko wnioski dotyczące działania algorytmu dla poszczególnych\n",
    "zbiorów. Napisz, dlaczego wg Ciebie zaproponowano takie zbiory punktów? Które ze\n",
    "zbiorów mogły stwarzać problemy w działaniu algorytmów? Jeśli tak, to jakie i\n",
    "dlaczego? Porównaj czasy działania obu algorytmów w zależności od liczby punktów\n",
    "w poszczególnych zbiorach (A, B, C, D). Dołącz wybrane, istotne ilustracje."
   ]
  },
  {
   "cell_type": "markdown",
   "metadata": {},
   "source": [
    "Bibliografia:\n",
    "- Wprowadzenie do algorytmów wydanie 3, Thomas H. Cormen, Charles E. Leiserson, Ronald L. Rivest, Stein Clifford\n"
   ]
  }
 ],
 "metadata": {
  "kernelspec": {
   "display_name": "Python 3",
   "language": "python",
   "name": "python3"
  },
  "language_info": {
   "codemirror_mode": {
    "name": "ipython",
    "version": 3
   },
   "file_extension": ".py",
   "mimetype": "text/x-python",
   "name": "python",
   "nbconvert_exporter": "python",
   "pygments_lexer": "ipython3",
   "version": "3.9.18"
  },
  "orig_nbformat": 4
 },
 "nbformat": 4,
 "nbformat_minor": 2
}
